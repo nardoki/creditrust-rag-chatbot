{
 "cells": [
  {
   "cell_type": "code",
   "execution_count": null,
   "id": "a1bbb740",
   "metadata": {},
   "outputs": [
    {
     "name": "stderr",
     "output_type": "stream",
     "text": [
      "C:\\Users\\Dell\\AppData\\Local\\Temp\\ipykernel_15172\\3540895231.py:3: DtypeWarning: Columns (16) have mixed types. Specify dtype option on import or set low_memory=False.\n",
      "  df = pd.read_csv('../data/raw/complaints.csv')\n"
     ]
    },
    {
     "data": {
      "text/html": [
       "<div>\n",
       "<style scoped>\n",
       "    .dataframe tbody tr th:only-of-type {\n",
       "        vertical-align: middle;\n",
       "    }\n",
       "\n",
       "    .dataframe tbody tr th {\n",
       "        vertical-align: top;\n",
       "    }\n",
       "\n",
       "    .dataframe thead th {\n",
       "        text-align: right;\n",
       "    }\n",
       "</style>\n",
       "<table border=\"1\" class=\"dataframe\">\n",
       "  <thead>\n",
       "    <tr style=\"text-align: right;\">\n",
       "      <th></th>\n",
       "      <th>Date received</th>\n",
       "      <th>Product</th>\n",
       "      <th>Sub-product</th>\n",
       "      <th>Issue</th>\n",
       "      <th>Sub-issue</th>\n",
       "      <th>Consumer complaint narrative</th>\n",
       "      <th>Company public response</th>\n",
       "      <th>Company</th>\n",
       "      <th>State</th>\n",
       "      <th>ZIP code</th>\n",
       "      <th>Tags</th>\n",
       "      <th>Consumer consent provided?</th>\n",
       "      <th>Submitted via</th>\n",
       "      <th>Date sent to company</th>\n",
       "      <th>Company response to consumer</th>\n",
       "      <th>Timely response?</th>\n",
       "      <th>Consumer disputed?</th>\n",
       "      <th>Complaint ID</th>\n",
       "    </tr>\n",
       "  </thead>\n",
       "  <tbody>\n",
       "    <tr>\n",
       "      <th>0</th>\n",
       "      <td>2025-06-20</td>\n",
       "      <td>Credit reporting or other personal consumer re...</td>\n",
       "      <td>Credit reporting</td>\n",
       "      <td>Incorrect information on your report</td>\n",
       "      <td>Information belongs to someone else</td>\n",
       "      <td>NaN</td>\n",
       "      <td>NaN</td>\n",
       "      <td>Experian Information Solutions Inc.</td>\n",
       "      <td>FL</td>\n",
       "      <td>32092</td>\n",
       "      <td>NaN</td>\n",
       "      <td>NaN</td>\n",
       "      <td>Web</td>\n",
       "      <td>2025-06-20</td>\n",
       "      <td>In progress</td>\n",
       "      <td>Yes</td>\n",
       "      <td>NaN</td>\n",
       "      <td>14195687</td>\n",
       "    </tr>\n",
       "    <tr>\n",
       "      <th>1</th>\n",
       "      <td>2025-06-20</td>\n",
       "      <td>Debt collection</td>\n",
       "      <td>Telecommunications debt</td>\n",
       "      <td>Attempts to collect debt not owed</td>\n",
       "      <td>Debt is not yours</td>\n",
       "      <td>NaN</td>\n",
       "      <td>Company can't verify or dispute the facts in t...</td>\n",
       "      <td>Eastern Account Systems of Connecticut, Inc.</td>\n",
       "      <td>FL</td>\n",
       "      <td>342XX</td>\n",
       "      <td>NaN</td>\n",
       "      <td>NaN</td>\n",
       "      <td>Web</td>\n",
       "      <td>2025-06-20</td>\n",
       "      <td>Closed with explanation</td>\n",
       "      <td>Yes</td>\n",
       "      <td>NaN</td>\n",
       "      <td>14195688</td>\n",
       "    </tr>\n",
       "    <tr>\n",
       "      <th>2</th>\n",
       "      <td>2025-06-20</td>\n",
       "      <td>Credit reporting or other personal consumer re...</td>\n",
       "      <td>Credit reporting</td>\n",
       "      <td>Improper use of your report</td>\n",
       "      <td>Reporting company used your report improperly</td>\n",
       "      <td>NaN</td>\n",
       "      <td>NaN</td>\n",
       "      <td>TRANSUNION INTERMEDIATE HOLDINGS, INC.</td>\n",
       "      <td>AZ</td>\n",
       "      <td>85225</td>\n",
       "      <td>NaN</td>\n",
       "      <td>NaN</td>\n",
       "      <td>Web</td>\n",
       "      <td>2025-06-20</td>\n",
       "      <td>In progress</td>\n",
       "      <td>Yes</td>\n",
       "      <td>NaN</td>\n",
       "      <td>14195689</td>\n",
       "    </tr>\n",
       "    <tr>\n",
       "      <th>3</th>\n",
       "      <td>2025-06-20</td>\n",
       "      <td>Credit reporting or other personal consumer re...</td>\n",
       "      <td>Credit reporting</td>\n",
       "      <td>Improper use of your report</td>\n",
       "      <td>Reporting company used your report improperly</td>\n",
       "      <td>NaN</td>\n",
       "      <td>NaN</td>\n",
       "      <td>Experian Information Solutions Inc.</td>\n",
       "      <td>AZ</td>\n",
       "      <td>85225</td>\n",
       "      <td>NaN</td>\n",
       "      <td>NaN</td>\n",
       "      <td>Web</td>\n",
       "      <td>2025-06-20</td>\n",
       "      <td>In progress</td>\n",
       "      <td>Yes</td>\n",
       "      <td>NaN</td>\n",
       "      <td>14195690</td>\n",
       "    </tr>\n",
       "    <tr>\n",
       "      <th>4</th>\n",
       "      <td>2025-06-20</td>\n",
       "      <td>Credit reporting or other personal consumer re...</td>\n",
       "      <td>Credit reporting</td>\n",
       "      <td>Incorrect information on your report</td>\n",
       "      <td>Account status incorrect</td>\n",
       "      <td>NaN</td>\n",
       "      <td>NaN</td>\n",
       "      <td>Experian Information Solutions Inc.</td>\n",
       "      <td>IL</td>\n",
       "      <td>60628</td>\n",
       "      <td>NaN</td>\n",
       "      <td>NaN</td>\n",
       "      <td>Web</td>\n",
       "      <td>2025-06-20</td>\n",
       "      <td>In progress</td>\n",
       "      <td>Yes</td>\n",
       "      <td>NaN</td>\n",
       "      <td>14195692</td>\n",
       "    </tr>\n",
       "  </tbody>\n",
       "</table>\n",
       "</div>"
      ],
      "text/plain": [
       "  Date received                                            Product  \\\n",
       "0    2025-06-20  Credit reporting or other personal consumer re...   \n",
       "1    2025-06-20                                    Debt collection   \n",
       "2    2025-06-20  Credit reporting or other personal consumer re...   \n",
       "3    2025-06-20  Credit reporting or other personal consumer re...   \n",
       "4    2025-06-20  Credit reporting or other personal consumer re...   \n",
       "\n",
       "               Sub-product                                 Issue  \\\n",
       "0         Credit reporting  Incorrect information on your report   \n",
       "1  Telecommunications debt     Attempts to collect debt not owed   \n",
       "2         Credit reporting           Improper use of your report   \n",
       "3         Credit reporting           Improper use of your report   \n",
       "4         Credit reporting  Incorrect information on your report   \n",
       "\n",
       "                                       Sub-issue Consumer complaint narrative  \\\n",
       "0            Information belongs to someone else                          NaN   \n",
       "1                              Debt is not yours                          NaN   \n",
       "2  Reporting company used your report improperly                          NaN   \n",
       "3  Reporting company used your report improperly                          NaN   \n",
       "4                       Account status incorrect                          NaN   \n",
       "\n",
       "                             Company public response  \\\n",
       "0                                                NaN   \n",
       "1  Company can't verify or dispute the facts in t...   \n",
       "2                                                NaN   \n",
       "3                                                NaN   \n",
       "4                                                NaN   \n",
       "\n",
       "                                        Company State ZIP code Tags  \\\n",
       "0           Experian Information Solutions Inc.    FL    32092  NaN   \n",
       "1  Eastern Account Systems of Connecticut, Inc.    FL    342XX  NaN   \n",
       "2        TRANSUNION INTERMEDIATE HOLDINGS, INC.    AZ    85225  NaN   \n",
       "3           Experian Information Solutions Inc.    AZ    85225  NaN   \n",
       "4           Experian Information Solutions Inc.    IL    60628  NaN   \n",
       "\n",
       "  Consumer consent provided? Submitted via Date sent to company  \\\n",
       "0                        NaN           Web           2025-06-20   \n",
       "1                        NaN           Web           2025-06-20   \n",
       "2                        NaN           Web           2025-06-20   \n",
       "3                        NaN           Web           2025-06-20   \n",
       "4                        NaN           Web           2025-06-20   \n",
       "\n",
       "  Company response to consumer Timely response? Consumer disputed?  \\\n",
       "0                  In progress              Yes                NaN   \n",
       "1      Closed with explanation              Yes                NaN   \n",
       "2                  In progress              Yes                NaN   \n",
       "3                  In progress              Yes                NaN   \n",
       "4                  In progress              Yes                NaN   \n",
       "\n",
       "   Complaint ID  \n",
       "0      14195687  \n",
       "1      14195688  \n",
       "2      14195689  \n",
       "3      14195690  \n",
       "4      14195692  "
      ]
     },
     "execution_count": 2,
     "metadata": {},
     "output_type": "execute_result"
    }
   ],
   "source": [
    "import pandas as pd\n",
    "\n",
    "df = pd.read_csv('../data/raw/complaints.csv')  \n",
    "df.shape\n",
    "df.columns\n",
    "df.head()\n"
   ]
  },
  {
   "cell_type": "code",
   "execution_count": 20,
   "id": "fba82c22",
   "metadata": {},
   "outputs": [
    {
     "data": {
      "text/plain": [
       "<Axes: title={'center': 'Complaints per Product'}, xlabel='Product'>"
      ]
     },
     "execution_count": 20,
     "metadata": {},
     "output_type": "execute_result"
    },
    {
     "data": {
      "image/png": "[encoded data removed]",
      "text/plain": [
       "<Figure size 640x480 with 1 Axes>"
      ]
     },
     "metadata": {},
     "output_type": "display_data"
    }
   ],
   "source": [
    "df['Product'].value_counts().plot(kind='bar', title='Complaints per Product')\n"
   ]
  },
  {
   "cell_type": "code",
   "execution_count": 5,
   "id": "365af475",
   "metadata": {},
   "outputs": [
    {
     "data": {
      "text/plain": [
       "<Axes: >"
      ]
     },
     "execution_count": 5,
     "metadata": {},
     "output_type": "execute_result"
    },
    {
     "data": {
      "image/png": "[encoded data removed]",
      "text/plain": [
       "<Figure size 640x480 with 1 Axes>"
      ]
     },
     "metadata": {},
     "output_type": "display_data"
    }
   ],
   "source": [
    "df['narrative_length'] = df['Consumer complaint narrative'].astype(str).apply(lambda x: len(x.split()))\n",
    "df['narrative_length'].describe()\n",
    "df['narrative_length'].hist(bins=50)\n"
   ]
  },
  {
   "cell_type": "code",
   "execution_count": null,
   "id": "dde97264",
   "metadata": {},
   "outputs": [
    {
     "name": "stdout",
     "output_type": "stream",
     "text": [
      "Total: 9609797, With narrative: 2980756, Without: 6629041\n"
     ]
    }
   ],
   "source": [
    "total = len(df)\n",
    "non_empty = df['Consumer complaint narrative'].notna().sum()\n",
    "empty = total - non_empty\n",
    "print(f\"Total: {total}, With narrative: {non_empty}, Without: {empty}\")\n",
    "\n"
   ]
  },
  {
   "cell_type": "markdown",
   "id": "d6975af9",
   "metadata": {},
   "source": [
    "Filter for the 5 Products"
   ]
  },
  {
   "cell_type": "code",
   "execution_count": 5,
   "id": "a867d0ab",
   "metadata": {},
   "outputs": [
    {
     "data": {
      "text/plain": [
       "(82164, 18)"
      ]
     },
     "execution_count": 5,
     "metadata": {},
     "output_type": "execute_result"
    }
   ],
   "source": [
    "products = [\n",
    "    \"Credit card\",\n",
    "    \"Personal loan\",\n",
    "    \"Buy Now, Pay Later (BNPL)\",\n",
    "    \"Savings account\",\n",
    "    \"Money transfers\"\n",
    "]\n",
    "\n",
    "filtered_df = df[df['Product'].isin(products)]\n",
    "filtered_df.shape"
   ]
  },
  {
   "cell_type": "markdown",
   "id": "98387cae",
   "metadata": {},
   "source": [
    "This will remove empty narratives"
   ]
  },
  {
   "cell_type": "code",
   "execution_count": 6,
   "id": "51f3aabe",
   "metadata": {
    "vscode": {
     "languageId": "powershell"
    }
   },
   "outputs": [
    {
     "data": {
      "text/plain": [
       "(82164, 18)"
      ]
     },
     "execution_count": 6,
     "metadata": {},
     "output_type": "execute_result"
    }
   ],
   "source": [
    "filtered_df = filtered_df[filtered_df['Consumer complaint narrative'].notna()]\n",
    "# Check how many missing\n",
    "filtered_df['Consumer complaint narrative'].isna().sum()\n",
    "\n",
    "# Drop rows with no narrative\n",
    "filtered_df = filtered_df.dropna(subset=['Consumer complaint narrative'])\n",
    "filtered_df.shape\n",
    "\n"
   ]
  },
  {
   "cell_type": "code",
   "execution_count": 8,
   "id": "bf405c47",
   "metadata": {
    "vscode": {
     "languageId": "powershell"
    }
   },
   "outputs": [],
   "source": [
    "import re\n",
    "\n",
    "def clean_text(text):\n",
    "    text = text.lower()\n",
    "    text = re.sub(r\"[^a-z0-9\\s]\", \"\", text)\n",
    "    text = re.sub(r\"\\bi am writing to (file|submit|express).*?\\b\", \"\", text)\n",
    "    text = re.sub(r\"\\s+\", \" \", text).strip()\n",
    "    return text\n",
    "\n",
    "filtered_df['cleaned_narrative'] = filtered_df['Consumer complaint narrative'].apply(clean_text)\n"
   ]
  },
  {
   "cell_type": "code",
   "execution_count": 13,
   "id": "5d9d68f7",
   "metadata": {
    "vscode": {
     "languageId": "powershell"
    }
   },
   "outputs": [],
   "source": [
    "import re\n",
    "\n",
    "def clean_text(text):\n",
    "    if pd.isna(text):\n",
    "        return \"\"\n",
    "\n",
    "    # Lowercase\n",
    "    text = text.lower()\n",
    "\n",
    "    # Remove common boilerplate\n",
    "    boilerplate_patterns = [\n",
    "        r\"^i am writing to (file|lodge|submit) a complaint\", \n",
    "        r\"^dear cfpb\", \n",
    "        r\"^thank you for your attention.*\", \n",
    "        r\"^to whom it may concern\"\n",
    "    ]\n",
    "    for pattern in boilerplate_patterns:\n",
    "        text = re.sub(pattern, \"\", text)\n",
    "\n",
    "    # Remove URLs, emails, and unwanted chars\n",
    "    text = re.sub(r\"http\\S+|www\\S+|mailto:\\S+\", \"\", text)  # remove links\n",
    "    text = re.sub(r\"\\S+@\\S+\", \"\", text)  # remove emails\n",
    "    text = re.sub(r\"[^a-zA-Z0-9\\s]\", \" \", text)  # remove special characters\n",
    "    text = re.sub(r\"\\s+\", \" \", text)  # normalize whitespace\n",
    "\n",
    "    return text.strip()\n"
   ]
  },
  {
   "cell_type": "code",
   "execution_count": 18,
   "id": "944e6f0e",
   "metadata": {
    "vscode": {
     "languageId": "powershell"
    }
   },
   "outputs": [],
   "source": [
    "boilerplate = [\n",
    "    r\"(thank you|sincerely|XXXX|regards|please note)[.,]?\",\n",
    "    r\"^i am writing.*?(complain|report|share).*?\",\n",
    "]\n",
    "\n",
    "filtered_df[\"cleaned_narrative\"] = filtered_df[\"Consumer complaint narrative\"].apply(clean_text)"
   ]
  },
  {
   "cell_type": "code",
   "execution_count": 19,
   "id": "74a0c263",
   "metadata": {
    "vscode": {
     "languageId": "powershell"
    }
   },
   "outputs": [],
   "source": [
    "filtered_df.to_csv('../data/filtered/filtered_complaints.csv', index=False)"
   ]
  }
 ],
 "metadata": {
  "kernelspec": {
   "display_name": "Python 3",
   "language": "python",
   "name": "python3"
  },
  "language_info": {
   "codemirror_mode": {
    "name": "ipython",
    "version": 3
   },
   "file_extension": ".py",
   "mimetype": "text/x-python",
   "name": "python",
   "nbconvert_exporter": "python",
   "pygments_lexer": "ipython3",
   "version": "3.10.11"
  }
 },
 "nbformat": 4,
 "nbformat_minor": 5
}
